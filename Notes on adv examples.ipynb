{
 "cells": [
  {
   "cell_type": "markdown",
   "metadata": {},
   "source": [
    "# Papers:"
   ]
  },
  {
   "cell_type": "markdown",
   "metadata": {},
   "source": [
    "### 1. Intriguing properties of neural networks: https://arxiv.org/pdf/1312.6199.pdf\n",
    "* Experimenting with MNIST Imagenet dataset with alexnet and Quocnet(1 billion parameters)\n",
    "* In Mnist: finding out the units sensative to lower bound upper bound and diagonal strokes\n",
    "* Experiment result: Our experiments show that any random direction v∈Rn gives rise to similarly interpretable semantic properties. More formally, we find that images x′are semantically related to each other, for many x.\n",
    "* $ x′= argmax〈φ(x),v〉/x∈I $\n",
    "* ** Blind Spots in Neural Networks**\n",
    "* The adversarial examples represent low-probability (high-dimensional) “pockets” in the manifold, which are hard to efficiently find by simply randomly sampling the input around a given example.  \n",
    "* Using hard-negative mining \n",
    "* **Experimental results**\n",
    "* Cross model generalization:a relatively large fraction of examples will be misclassified by networks trained from scratch with different hyper-parameters (number of layers, regularization or initial weights).\n",
    "* Cross training-set generalizationa relatively large fraction of examples will be misclassified by networks trained from scratch on a disjoint training set.\n",
    "*  models were trained with L-BFGS until convergence\n",
    "* The existence of\n",
    "the adversarial negatives appears to be in contradiction with the network’s ability to achieve high\n",
    "generalization performance.   Indeed,  if the network can generalize well,  how can it be confused\n",
    "by these adversarial negatives,  which are indistinguishable from the regular examples?   Possible\n",
    "explanation is that the set of adversarial negatives is of extremely low probability, and thus is never\n",
    "(or rarely) observed in the test set, yet it is dense (much like the rational numbers), and so it is found\n",
    "near every virtually every test cas"
   ]
  }
 ],
 "metadata": {
  "kernelspec": {
   "display_name": "Python 3",
   "language": "python",
   "name": "python3"
  },
  "language_info": {
   "codemirror_mode": {
    "name": "ipython",
    "version": 3
   },
   "file_extension": ".py",
   "mimetype": "text/x-python",
   "name": "python",
   "nbconvert_exporter": "python",
   "pygments_lexer": "ipython3",
   "version": "3.6.1"
  }
 },
 "nbformat": 4,
 "nbformat_minor": 2
}
